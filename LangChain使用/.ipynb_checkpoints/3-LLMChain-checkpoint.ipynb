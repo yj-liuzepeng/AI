{
 "cells": [
  {
   "cell_type": "code",
   "execution_count": 3,
   "id": "9b8b5249",
   "metadata": {},
   "outputs": [
    {
     "name": "stderr",
     "output_type": "stream",
     "text": [
      "/var/folders/1d/y65b382n1px9cy91c4sfzn8r0000gn/T/ipykernel_21197/1060028166.py:28: LangChainDeprecationWarning: LangChain agents will continue to be supported, but it is recommended for new use cases to be built with LangGraph. LangGraph offers a more flexible and full-featured framework for building agents, including support for tool-calling, persistence of state, and human-in-the-loop workflows. For details, refer to the `LangGraph documentation <https://langchain-ai.github.io/langgraph/>`_ as well as guides for `Migrating from AgentExecutor <https://python.langchain.com/docs/how_to/migrate_agent/>`_ and LangGraph's `Pre-built ReAct agent <https://langchain-ai.github.io/langgraph/how-tos/create-react-agent/>`_.\n",
      "  agent = initialize_agent(tools, llm, agent=AgentType.ZERO_SHOT_REACT_DESCRIPTION, verbose=True)\n",
      "/var/folders/1d/y65b382n1px9cy91c4sfzn8r0000gn/T/ipykernel_21197/1060028166.py:31: LangChainDeprecationWarning: The method `Chain.run` was deprecated in langchain 0.1.0 and will be removed in 1.0. Use :meth:`~invoke` instead.\n",
      "  agent.run(\"当前北京的温度是多少华氏度？这个温度的1/4是多少\")\n"
     ]
    },
    {
     "name": "stdout",
     "output_type": "stream",
     "text": [
      "\n",
      "\n",
      "\u001b[1m> Entering new AgentExecutor chain...\u001b[0m\n",
      "\u001b[32;1m\u001b[1;3m我需要查找当前北京的温度，然后将其转换为华氏度。之后，我需要用计算器计算这个温度的1/4。\n",
      "Action: Search\n",
      "Action Input: 当前北京的温度\u001b[0m\n",
      "Observation: \u001b[36;1m\u001b[1;3m{'type': 'weather_result', 'temperature': '85', 'unit': 'Fahrenheit', 'precipitation': '0%', 'humidity': '25%', 'wind': '5 mph', 'location': '中国北京市', 'date': 'Friday 8:00 AM', 'weather': 'Sunny'}\u001b[0m\n",
      "Thought:\u001b[32;1m\u001b[1;3m我找到了当前北京的温度为85华氏度。现在我需要用计算器计算这个温度的1/4。\n",
      "Action: Calculator\n",
      "Action Input: 85 / 4\u001b[0m\n",
      "Observation: \u001b[33;1m\u001b[1;3mAnswer: 21.25\u001b[0m\n",
      "Thought:\u001b[32;1m\u001b[1;3m我现在已经知道最终答案。\n",
      "Final Answer: 当前北京的温度是85华氏度，这个温度的1/4是21.25华氏度。\u001b[0m\n",
      "\n",
      "\u001b[1m> Finished chain.\u001b[0m\n"
     ]
    },
    {
     "data": {
      "text/plain": [
       "'当前北京的温度是85华氏度，这个温度的1/4是21.25华氏度。'"
      ]
     },
     "execution_count": 3,
     "metadata": {},
     "output_type": "execute_result"
    }
   ],
   "source": [
    "import os\n",
    "from langchain.agents import load_tools\n",
    "from langchain.agents import initialize_agent\n",
    "from langchain_community.llms import Tongyi  # 导入通义千问Tongyi模型\n",
    "from langchain.agents import AgentType\n",
    "\n",
    " # 你需要在环境变量中添加 OPENAI_API_KEY 和 SERPAPI_API_KEY\n",
    "#os.environ[\"OPENAI_API_KEY\"] = '*******'\n",
    "os.environ[\"SERPAPI_API_KEY\"] = 'becfe1cd81ac25acff4922247ffd0092819df56a6ebeb415f6e7e28f66dfee79'\n",
    " \n",
    "# 设置通义千问API密钥\n",
    "os.environ[\"DASHSCOPE_API_KEY\"] = 'sk-f50e8206227745b4925d04e4d7dcc744'\n",
    "\n",
    "# 加载模型\n",
    "llm = Tongyi(model_name=\"qwen-turbo\")  # 使用通义千问qwen-turbo模型\n",
    " \n",
    "# 加载 serpapi, llm-math工具, 因为llm-math要使用LLM，所以后面需要指定LLM\n",
    "tools = load_tools([\"serpapi\", \"llm-math\"], llm=llm)\n",
    " \n",
    "\"\"\"\n",
    "agent：代理类型  \n",
    "    zero-shot-react-description: 根据工具的描述和请求内容的来决定使用哪个工具（最常用）\n",
    "    react-docstore: 使用 ReAct 框架和 docstore 交互, 使用Search 和Lookup 工具, 前者用来搜, 后者寻找term, 举例: Wipipedia 工具\n",
    "    self-ask-with-search 此代理只使用一个工具: Intermediate Answer, 它会为问题寻找事实答案(指的非 gpt 生成的答案, 而是在网络中,文本中已存在的), 如 Google search API 工具\n",
    "    conversational-react-description: 为会话设置而设计的代理, 它的prompt会被设计的具有会话性, 且还是会使用 ReAct 框架来决定使用来个工具, 并且将过往的会话交互存入内存\n",
    "\"\"\"\n",
    "# # 工具加载后需要初始化，verbose=True 代表打印执行详情\n",
    "# agent = initialize_agent(tools, llm, agent=AgentType.ZERO_SHOT_REACT_DESCRIPTION, verbose=True)\n",
    " \n",
    "# # 运行 agent\n",
    "# agent.run(\"当前北京的温度是多少华氏度？这个温度的1/4是多少\")\n",
    "\n",
    "agent = initialize_agent(tools, llm, agent=AgentType.ZERO_SHOT_REACT_DESCRIPTION, verbose=True)\n",
    "agent.invoke({\"input\": \"当前北京的温度是多少华氏度？这个温度的1/4是多少\"})"
   ]
  },
  {
   "cell_type": "code",
   "execution_count": 2,
   "id": "f8890f6e",
   "metadata": {},
   "outputs": [
    {
     "name": "stdout",
     "output_type": "stream",
     "text": [
      "Collecting numexpr\n",
      "  Downloading numexpr-2.10.2-cp310-cp310-macosx_11_0_arm64.whl.metadata (8.1 kB)\n",
      "Requirement already satisfied: numpy>=1.23.0 in /Users/liuzepeng/.pyenv/versions/3.10.0/lib/python3.10/site-packages (from numexpr) (1.26.4)\n",
      "Downloading numexpr-2.10.2-cp310-cp310-macosx_11_0_arm64.whl (134 kB)\n",
      "Installing collected packages: numexpr\n",
      "Successfully installed numexpr-2.10.2\n",
      "Note: you may need to restart the kernel to use updated packages.\n"
     ]
    }
   ],
   "source": [
    "pip install numexpr"
   ]
  },
  {
   "cell_type": "code",
   "execution_count": null,
   "id": "cb8b127c-f15d-4b2d-a73b-e5ba4147462e",
   "metadata": {},
   "outputs": [],
   "source": []
  }
 ],
 "metadata": {
  "kernelspec": {
   "display_name": "Python 3 (ipykernel)",
   "language": "python",
   "name": "python3"
  },
  "language_info": {
   "codemirror_mode": {
    "name": "ipython",
    "version": 3
   },
   "file_extension": ".py",
   "mimetype": "text/x-python",
   "name": "python",
   "nbconvert_exporter": "python",
   "pygments_lexer": "ipython3",
   "version": "3.10.0"
  }
 },
 "nbformat": 4,
 "nbformat_minor": 5
}
