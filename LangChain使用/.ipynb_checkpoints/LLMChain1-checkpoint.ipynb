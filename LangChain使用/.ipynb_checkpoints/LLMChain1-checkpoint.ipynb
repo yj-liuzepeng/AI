{
 "cells": [
  {
   "cell_type": "code",
   "execution_count": 1,
   "id": "4930af04",
   "metadata": {},
   "outputs": [
    {
     "name": "stderr",
     "output_type": "stream",
     "text": [
      "C:\\Users\\cheny\\AppData\\Local\\Temp\\ipykernel_1836\\1702328525.py:18: LangChainDeprecationWarning: The class `LLMChain` was deprecated in LangChain 0.1.17 and will be removed in 1.0. Use :meth:`~RunnableSequence, e.g., `prompt | llm`` instead.\n",
      "  chain = LLMChain(llm=llm, prompt=prompt)\n",
      "C:\\Users\\cheny\\AppData\\Local\\Temp\\ipykernel_1836\\1702328525.py:20: LangChainDeprecationWarning: The method `Chain.run` was deprecated in langchain 0.1.0 and will be removed in 1.0. Use :meth:`~invoke` instead.\n",
      "  chain.run(\"colorful socks\")\n"
     ]
    },
    {
     "data": {
      "text/plain": [
       "\"Here are some creative and catchy name ideas for a colorful sock company:\\n\\n1. **Rainbow Sox**  \\n2. **Chromatix Socks**  \\n3. **Sole Mates**  \\n4. **Colorful Threads**  \\n5. **Happy Feet Co.**  \\n6. **Sock Pop**  \\n7. **Art Sox**  \\n8. **Feet Fest**  \\n9. **Vivid Socks**  \\n10. **Pebble & Sole**  \\n\\nEach of these names conveys fun, vibrancy, and comfort—key qualities for a brand focused on colorful socks! Let me know if you'd like more suggestions or help refining one of these ideas.\""
      ]
     },
     "execution_count": 1,
     "metadata": {},
     "output_type": "execute_result"
    }
   ],
   "source": [
    "from langchain.prompts import PromptTemplate\n",
    "from langchain_community.llms import Tongyi  # 导入通义千问Tongyi模型\n",
    "\n",
    "# 设置通义千问API密钥\n",
    "DASHSCOPE_API_KEY = 'sk-882e296067b744289acf27e6e20f3ec0'\n",
    " \n",
    "# 加载 Tongyi 模型\n",
    "llm = Tongyi(model_name=\"qwen-turbo\", dashscope_api_key=DASHSCOPE_API_KEY)  # 使用通义千问qwen-turbo模型\n",
    "\n",
    "# 创建Prompt Template\n",
    "prompt = PromptTemplate(\n",
    "    input_variables=[\"product\"],\n",
    "    template=\"What is a good name for a company that makes {product}?\",\n",
    ")\n",
    "\n",
    "from langchain.chains import LLMChain\n",
    "# 创建LLMChain = LLM + prompt\n",
    "chain = LLMChain(llm=llm, prompt=prompt)\n",
    "# 传入用户输入的input\n",
    "chain.run(\"colorful socks\")"
   ]
  }
 ],
 "metadata": {
  "kernelspec": {
   "display_name": "Python 3 (ipykernel)",
   "language": "python",
   "name": "python3"
  },
  "language_info": {
   "codemirror_mode": {
    "name": "ipython",
    "version": 3
   },
   "file_extension": ".py",
   "mimetype": "text/x-python",
   "name": "python",
   "nbconvert_exporter": "python",
   "pygments_lexer": "ipython3",
   "version": "3.11.6"
  }
 },
 "nbformat": 4,
 "nbformat_minor": 5
}
