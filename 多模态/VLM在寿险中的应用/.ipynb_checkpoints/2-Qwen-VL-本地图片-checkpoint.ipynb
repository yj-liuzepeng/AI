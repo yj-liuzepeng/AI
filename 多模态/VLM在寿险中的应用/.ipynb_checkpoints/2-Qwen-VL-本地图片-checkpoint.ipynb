{
 "cells": [
  {
   "cell_type": "code",
   "execution_count": 1,
   "id": "d2d11d44-fa60-4e87-a1de-f393320551d9",
   "metadata": {},
   "outputs": [
    {
     "name": "stdout",
     "output_type": "stream",
     "text": [
      "{\"status_code\": 200, \"request_id\": \"05f04fea-7d3c-9a06-87b1-f8aa646b84a4\", \"code\": \"\", \"message\": \"\", \"output\": {\"text\": null, \"finish_reason\": null, \"choices\": [{\"finish_reason\": \"stop\", \"message\": {\"role\": \"assistant\", \"content\": [{\"text\": \"这张图片是一份医疗报告，内容如下：\\n\\n**基本信息：**\\n- 姓名: 未填写（性别、年龄等信息缺失）\\n- 性别:\\n- 年龄：\\n- 条码号:\\n\\n**科室和检查设备：**\\n- 科室名称及区域(新病区):\\n- 床号:\\n- 检查日期与时间\\n\\n**临床诊断:** 软组织疾患  \\n送检医师要求:\\n\\n**影像学表现:**\\n\\n右胫骨近端后缘骨折,断端骨质稍分离。周围见小骨片游离;髌上囊积液。\\n\\n余膝关节扫描范围内无异常发现。\\n关节腔内有少量液体存在,\\n软组织影未见明显肿胀.\\n\\n根据以上描述可以得知该患者在进行CT平扫+重建时发现了右侧小腿的骨骼损伤，并伴有膝盖周围的轻微积水现象；但其余部分没有明显的病变或炎症反应出现。\"}]}}]}, \"usage\": {\"input_tokens\": 482, \"output_tokens\": 197, \"total_tokens\": 679, \"image_tokens\": 458}}\n"
     ]
    }
   ],
   "source": [
    "import json\n",
    "import os\n",
    "import dashscope\n",
    "from dashscope.api_entities.dashscope_response import Role\n",
    "from dashscope import MultiModalConversation\n",
    "dashscope.api_key = \"sk-882e296067b744289acf27e6e20f3ec0\"\n",
    "\n",
    "local_file_path = 'file://1-Chinese-document-extraction.jpg'\n",
    "messages = [{\n",
    "    'role': 'system',\n",
    "    'content': [{\n",
    "        'text': 'You are a helpful assistant.'\n",
    "    }]\n",
    "}, {\n",
    "    'role':\n",
    "    'user',\n",
    "    'content': [\n",
    "        {\n",
    "            'image': local_file_path\n",
    "        },\n",
    "        {\n",
    "            'text': '图片里有什么东西?'\n",
    "        },\n",
    "    ]\n",
    "}]\n",
    "response = MultiModalConversation.call(model='qwen-vl-plus', messages=messages)\n",
    "print(response)"
   ]
  },
  {
   "cell_type": "code",
   "execution_count": 2,
   "id": "b6bdee02-cf06-436b-9c9e-58f406b85592",
   "metadata": {},
   "outputs": [
    {
     "name": "stdout",
     "output_type": "stream",
     "text": [
      "这张图片是一份医疗报告，内容如下：\n",
      "\n",
      "**基本信息：**\n",
      "- 姓名: 未填写（性别、年龄等信息缺失）\n",
      "- 性别:\n",
      "- 年龄：\n",
      "- 条码号:\n",
      "\n",
      "**科室和检查设备：**\n",
      "- 科室名称及区域(新病区):\n",
      "- 床号:\n",
      "- 检查日期与时间\n",
      "\n",
      "**临床诊断:** 软组织疾患  \n",
      "送检医师要求:\n",
      "\n",
      "**影像学表现:**\n",
      "\n",
      "右胫骨近端后缘骨折,断端骨质稍分离。周围见小骨片游离;髌上囊积液。\n",
      "\n",
      "余膝关节扫描范围内无异常发现。\n",
      "关节腔内有少量液体存在,\n",
      "软组织影未见明显肿胀.\n",
      "\n",
      "根据以上描述可以得知该患者在进行CT平扫+重建时发现了右侧小腿的骨骼损伤，并伴有膝盖周围的轻微积水现象；但其余部分没有明显的病变或炎症反应出现。\n"
     ]
    }
   ],
   "source": [
    "print(response.output.choices[0].message.content[0]['text'])"
   ]
  }
 ],
 "metadata": {
  "kernelspec": {
   "display_name": "Python 3 (ipykernel)",
   "language": "python",
   "name": "python3"
  },
  "language_info": {
   "codemirror_mode": {
    "name": "ipython",
    "version": 3
   },
   "file_extension": ".py",
   "mimetype": "text/x-python",
   "name": "python",
   "nbconvert_exporter": "python",
   "pygments_lexer": "ipython3",
   "version": "3.11.6"
  }
 },
 "nbformat": 4,
 "nbformat_minor": 5
}
