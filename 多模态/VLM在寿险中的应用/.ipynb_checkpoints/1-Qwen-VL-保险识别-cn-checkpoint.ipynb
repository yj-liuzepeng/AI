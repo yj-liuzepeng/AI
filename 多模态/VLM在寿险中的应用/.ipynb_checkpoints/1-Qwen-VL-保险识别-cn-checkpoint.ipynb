{
 "cells": [
  {
   "cell_type": "markdown",
   "id": "76cc7f5c-c05f-4774-9726-e79cfdc223d8",
   "metadata": {},
   "source": [
    "保险场景 VLM使用"
   ]
  },
  {
   "cell_type": "code",
   "execution_count": 1,
   "id": "d2d11d44-fa60-4e87-a1de-f393320551d9",
   "metadata": {},
   "outputs": [],
   "source": [
    "import os\n",
    "from openai import OpenAI\n",
    "import pandas as pd\n",
    "\n",
    "client = OpenAI(\n",
    "    api_key=\"sk-882e296067b744289acf27e6e20f3ec0\", \n",
    "    base_url=\"https://dashscope.aliyuncs.com/compatible-mode/v1\",\n",
    ")\n",
    "\n",
    "# 调用VLM，得到推理结果\n",
    "# user_prompt：用户想要分析的内容\n",
    "# image_url：想要分析的图片\n",
    "def get_response(user_prompt, image_url):\n",
    "    # 得到image_url_list，一张图片也放到[]中\n",
    "    if image_url.startswith('[') and ',' in image_url:\n",
    "        # 属于image_url list\n",
    "        image_url = image_url.strip()\n",
    "        image_url = image_url[1:-1]\n",
    "        image_url_list = image_url.split(',')\n",
    "        image_url_list = [temp_url.strip() for temp_url in image_url_list]\n",
    "    else:\n",
    "        image_url_list = [image_url]\n",
    "    # 得到messages\n",
    "    content = [{\"type\": \"text\", \"text\": f\"{user_prompt}\"}]\n",
    "    for temp_url in image_url_list: \n",
    "        image_url = f\"https://vl-image.oss-cn-shanghai.aliyuncs.com/{temp_url}.jpg\"\n",
    "        content.append({\"type\": \"image_url\",\"image_url\": {\"url\": f\"{image_url}\"}})\n",
    "    messages=[{\n",
    "                \"role\": \"user\",\n",
    "                \"content\": content\n",
    "            }\n",
    "        ]\n",
    "\n",
    "    print(f'messages={messages}')\n",
    "    completion = client.chat.completions.create(\n",
    "        model=\"qwen-vl-max\", #qwen-vl-plus\n",
    "        messages=messages    \n",
    "        )\n",
    "    #print(completion.model_dump_json())\n",
    "    return completion"
   ]
  },
  {
   "cell_type": "code",
   "execution_count": 2,
   "id": "ffa40fc7-aa39-4b1b-942b-2ad66fc0f4a2",
   "metadata": {},
   "outputs": [
    {
     "name": "stdout",
     "output_type": "stream",
     "text": [
      "messages=[{'role': 'user', 'content': [{'type': 'text', 'text': '假设你是一位健康保险专家。这里有一份保单持有人提供的医疗文件的图片。请从中提取详细信息。'}, {'type': 'image_url', 'image_url': {'url': 'https://vl-image.oss-cn-shanghai.aliyuncs.com/1-Chinese-document-extraction.jpg'}}]}]\n",
      "1 假设你是一位健康保险专家。这里有一份保单持有人提供的医疗文件的图片。请从中提取详细信息。 1-Chinese-document-extraction\n",
      "messages=[{'role': 'user', 'content': [{'type': 'text', 'text': '假设你是一位健康保险专家。这里有一份保单持有人提供的医疗文件的图片。请从中提取详细信息。'}, {'type': 'image_url', 'image_url': {'url': 'https://vl-image.oss-cn-shanghai.aliyuncs.com/2-Japanese-document-extraction.jpg'}}]}]\n",
      "2 假设你是一位健康保险专家。这里有一份保单持有人提供的医疗文件的图片。请从中提取详细信息。 2-Japanese-document-extraction\n",
      "messages=[{'role': 'user', 'content': [{'type': 'text', 'text': '假设你是一位健康保险专家。这里有一份保单持有人提供的医疗文件的图片。请从中提取详细信息。'}, {'type': 'image_url', 'image_url': {'url': 'https://vl-image.oss-cn-shanghai.aliyuncs.com/3-French-document-extraction.jpg'}}]}]\n",
      "3 假设你是一位健康保险专家。这里有一份保单持有人提供的医疗文件的图片。请从中提取详细信息。 3-French-document-extraction\n",
      "messages=[{'role': 'user', 'content': [{'type': 'text', 'text': '假设你是一位健康保险专家。这里有一份保单持有人提供的医疗文件的图片。请从中提取详细信息。'}, {'type': 'image_url', 'image_url': {'url': 'https://vl-image.oss-cn-shanghai.aliyuncs.com/4-German-document-extraction.jpg'}}]}]\n",
      "4 假设你是一位健康保险专家。这里有一份保单持有人提供的医疗文件的图片。请从中提取详细信息。 4-German-document-extraction\n",
      "messages=[{'role': 'user', 'content': [{'type': 'text', 'text': '假设你是一位健康保险专家。这里有一份保单持有人提供的医疗文件的图片。请从中提取详细信息。'}, {'type': 'image_url', 'image_url': {'url': 'https://vl-image.oss-cn-shanghai.aliyuncs.com/5-Korean-document-extraction.jpg'}}]}]\n",
      "5 假设你是一位健康保险专家。这里有一份保单持有人提供的医疗文件的图片。请从中提取详细信息。 5-Korean-document-extraction\n"
     ]
    }
   ],
   "source": [
    "df = pd.read_excel('./prompt_template_cn.xlsx')\n",
    "df['response'] = ''\n",
    "for index, row in df.iterrows():\n",
    "    user_prompt = row['prompt']\n",
    "    image_url = row['image']\n",
    "    # 得到VLM推理结果\n",
    "    completion = get_response(user_prompt, image_url)\n",
    "    response = completion.choices[0].message.content\n",
    "    df.loc[index, 'response'] = response\n",
    "    print(f\"{index+1} {user_prompt} {image_url}\")\n",
    "df.to_excel('./prompt_template_cn_result.xlsx', index=False)"
   ]
  },
  {
   "cell_type": "code",
   "execution_count": 3,
   "id": "0d17ab03-cb17-4f6d-89c9-737c2727972c",
   "metadata": {},
   "outputs": [
    {
     "data": {
      "text/html": [
       "<div>\n",
       "<style scoped>\n",
       "    .dataframe tbody tr th:only-of-type {\n",
       "        vertical-align: middle;\n",
       "    }\n",
       "\n",
       "    .dataframe tbody tr th {\n",
       "        vertical-align: top;\n",
       "    }\n",
       "\n",
       "    .dataframe thead th {\n",
       "        text-align: right;\n",
       "    }\n",
       "</style>\n",
       "<table border=\"1\" class=\"dataframe\">\n",
       "  <thead>\n",
       "    <tr style=\"text-align: right;\">\n",
       "      <th></th>\n",
       "      <th>id</th>\n",
       "      <th>prompt</th>\n",
       "      <th>image</th>\n",
       "      <th>response</th>\n",
       "    </tr>\n",
       "  </thead>\n",
       "  <tbody>\n",
       "    <tr>\n",
       "      <th>0</th>\n",
       "      <td>1</td>\n",
       "      <td>假设你是一位健康保险专家。这里有一份保单持有人提供的医疗文件的图片。请从中提取详细信息。</td>\n",
       "      <td>1-Chinese-document-extraction</td>\n",
       "      <td>从这份医疗文件中，我们可以提取以下详细信息：\\n\\n1. **患者信息**：\\n   - 姓...</td>\n",
       "    </tr>\n",
       "    <tr>\n",
       "      <th>1</th>\n",
       "      <td>2</td>\n",
       "      <td>假设你是一位健康保险专家。这里有一份保单持有人提供的医疗文件的图片。请从中提取详细信息。</td>\n",
       "      <td>2-Japanese-document-extraction</td>\n",
       "      <td>这是一份日文的诊断书，以下是提取的关键信息：\\n\\n- **诊断书**\\n- **患者姓名*...</td>\n",
       "    </tr>\n",
       "    <tr>\n",
       "      <th>2</th>\n",
       "      <td>3</td>\n",
       "      <td>假设你是一位健康保险专家。这里有一份保单持有人提供的医疗文件的图片。请从中提取详细信息。</td>\n",
       "      <td>3-French-document-extraction</td>\n",
       "      <td>从这份医疗报告中，我们可以提取以下详细信息：\\n\\n- **住院日期**：2010年6月6日...</td>\n",
       "    </tr>\n",
       "    <tr>\n",
       "      <th>3</th>\n",
       "      <td>4</td>\n",
       "      <td>假设你是一位健康保险专家。这里有一份保单持有人提供的医疗文件的图片。请从中提取详细信息。</td>\n",
       "      <td>4-German-document-extraction</td>\n",
       "      <td>这是一份医疗证明，以下是详细信息：\\n\\n### 患者信息\\n- **患者**：[姓名未显示...</td>\n",
       "    </tr>\n",
       "    <tr>\n",
       "      <th>4</th>\n",
       "      <td>5</td>\n",
       "      <td>假设你是一位健康保险专家。这里有一份保单持有人提供的医疗文件的图片。请从中提取详细信息。</td>\n",
       "      <td>5-Korean-document-extraction</td>\n",
       "      <td>这是一份韩国的医疗文件，称为“상해 진단서”（伤害诊断书）。以下是从这份文件中提取的详细信息...</td>\n",
       "    </tr>\n",
       "  </tbody>\n",
       "</table>\n",
       "</div>"
      ],
      "text/plain": [
       "   id                                        prompt  \\\n",
       "0   1  假设你是一位健康保险专家。这里有一份保单持有人提供的医疗文件的图片。请从中提取详细信息。   \n",
       "1   2  假设你是一位健康保险专家。这里有一份保单持有人提供的医疗文件的图片。请从中提取详细信息。   \n",
       "2   3  假设你是一位健康保险专家。这里有一份保单持有人提供的医疗文件的图片。请从中提取详细信息。   \n",
       "3   4  假设你是一位健康保险专家。这里有一份保单持有人提供的医疗文件的图片。请从中提取详细信息。   \n",
       "4   5  假设你是一位健康保险专家。这里有一份保单持有人提供的医疗文件的图片。请从中提取详细信息。   \n",
       "\n",
       "                            image  \\\n",
       "0   1-Chinese-document-extraction   \n",
       "1  2-Japanese-document-extraction   \n",
       "2    3-French-document-extraction   \n",
       "3    4-German-document-extraction   \n",
       "4    5-Korean-document-extraction   \n",
       "\n",
       "                                            response  \n",
       "0  从这份医疗文件中，我们可以提取以下详细信息：\\n\\n1. **患者信息**：\\n   - 姓...  \n",
       "1  这是一份日文的诊断书，以下是提取的关键信息：\\n\\n- **诊断书**\\n- **患者姓名*...  \n",
       "2  从这份医疗报告中，我们可以提取以下详细信息：\\n\\n- **住院日期**：2010年6月6日...  \n",
       "3  这是一份医疗证明，以下是详细信息：\\n\\n### 患者信息\\n- **患者**：[姓名未显示...  \n",
       "4  这是一份韩国的医疗文件，称为“상해 진단서”（伤害诊断书）。以下是从这份文件中提取的详细信息...  "
      ]
     },
     "execution_count": 3,
     "metadata": {},
     "output_type": "execute_result"
    }
   ],
   "source": [
    "df"
   ]
  }
 ],
 "metadata": {
  "kernelspec": {
   "display_name": "Python 3 (ipykernel)",
   "language": "python",
   "name": "python3"
  },
  "language_info": {
   "codemirror_mode": {
    "name": "ipython",
    "version": 3
   },
   "file_extension": ".py",
   "mimetype": "text/x-python",
   "name": "python",
   "nbconvert_exporter": "python",
   "pygments_lexer": "ipython3",
   "version": "3.11.6"
  }
 },
 "nbformat": 4,
 "nbformat_minor": 5
}
